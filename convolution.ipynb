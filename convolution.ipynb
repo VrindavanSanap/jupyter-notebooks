{
 "cells": [
  {
   "cell_type": "code",
   "execution_count": 2,
   "metadata": {},
   "outputs": [],
   "source": [
    "# https://en.wikipedia.org/wiki/Convolution"
   ]
  },
  {
   "cell_type": "code",
   "execution_count": 3,
   "metadata": {},
   "outputs": [],
   "source": [
    "import numpy as np\n",
    "from numpy import array as arr\n",
    "import matplotlib.pyplot as plt\n",
    "\n",
    "np.set_printoptions(precision=2)"
   ]
  },
  {
   "cell_type": "code",
   "execution_count": 4,
   "metadata": {},
   "outputs": [],
   "source": [
    "a = arr([1, 2, 3, 4])\n",
    "b = arr([5, 6, 7, 8])"
   ]
  },
  {
   "cell_type": "code",
   "execution_count": 18,
   "metadata": {},
   "outputs": [
    {
     "name": "stdout",
     "output_type": "stream",
     "text": [
      "[ 5 16 34 60 61 52 32] 7\n"
     ]
    }
   ],
   "source": [
    "c = np.convolve(a, b)\n",
    "print(c, len(c))"
   ]
  },
  {
   "cell_type": "code",
   "execution_count": 6,
   "metadata": {},
   "outputs": [],
   "source": [
    "def conv1d(input_array, kernel):\n",
    "  \"\"\"\n",
    "  Mimics np.convolve() function.\n",
    "\n",
    "  Parameters:\n",
    "      input_array (list or numpy array): Input array.\n",
    "      kernel (list or numpy array): Kernel to convolve with input_array.\n",
    "\n",
    "  Returns:\n",
    "      numpy array: Convolved result.\n",
    "  \"\"\"\n",
    "  input_length = len(input_array)\n",
    "  kernel_length = len(kernel)\n",
    "  output_length = input_length + kernel_length - 1\n",
    "  output = [0] * output_length\n",
    "\n",
    "  # Iterate through each position in the output array\n",
    "  for i in range(output_length):\n",
    "    # Calculate bounds for the input and kernel indices\n",
    "\n",
    "    output[i] = input_array[max(0, i + 1 - kernel_length) : min(input_length, i + 1)] @ np.flip(\n",
    "      kernel[max(0, i + 1 - input_length) : min(kernel_length, i + 1)]\n",
    "    )\n",
    "\n",
    "  return output"
   ]
  },
  {
   "cell_type": "code",
   "execution_count": 7,
   "metadata": {},
   "outputs": [
    {
     "data": {
      "text/plain": [
       "array([ 5, 16, 34, 52, 45, 28])"
      ]
     },
     "execution_count": 7,
     "metadata": {},
     "output_type": "execute_result"
    }
   ],
   "source": [
    "np.convolve(arr([1, 2, 3, 4]), arr([5, 6, 7]))"
   ]
  },
  {
   "cell_type": "code",
   "execution_count": 8,
   "metadata": {},
   "outputs": [
    {
     "data": {
      "text/plain": [
       "[5, 16, 34, 52, 45, 28]"
      ]
     },
     "execution_count": 8,
     "metadata": {},
     "output_type": "execute_result"
    }
   ],
   "source": [
    "conv1d(arr([1, 2, 3, 4]), arr([5, 6, 7]))"
   ]
  },
  {
   "cell_type": "code",
   "execution_count": 9,
   "metadata": {},
   "outputs": [
    {
     "name": "stdout",
     "output_type": "stream",
     "text": [
      "[1, 0, 0, 1, 1, 1, 0, 1, 1] 9\n",
      "[0 1 1 1 2 1 2 1 1] 9\n"
     ]
    }
   ],
   "source": [
    "# Calculate Neighbours\n",
    "grid = [1, 0, 0, 1, 1, 1, 0, 1, 1]\n",
    "print(grid, len(grid))\n",
    "kernel = [1, 1, 1]\n",
    "res = np.convolve(grid, kernel)[1:-1] - grid\n",
    "print(res, len(res))"
   ]
  },
  {
   "cell_type": "code",
   "execution_count": 10,
   "metadata": {},
   "outputs": [],
   "source": [
    "def conv2d(input, kernel):\n",
    "  H, W = input.shape\n",
    "  M, N = kernel.shape\n",
    "  out = np.zeros((H + M - 1, W + N - 1), dtype=float)\n",
    "  for i in range(H + M - 1):\n",
    "    for j in range(W + N - 1):\n",
    "      out[i, j] = np.sum(\n",
    "        input[max(0, i - M + 1) : min(i + 1, H), max(0, j - N + 1) : min(j + 1, W)]\n",
    "        * np.flip(kernel[max(0, i - H + 1) : min(i + 1, M), max(0, j - W + 1) : min(j + 1, N)])\n",
    "      )\n",
    "\n",
    "  return out"
   ]
  },
  {
   "cell_type": "code",
   "execution_count": 17,
   "metadata": {},
   "outputs": [],
   "source": [
    "block = np.array([[0, 0, 0, 0, 0, 0], [0, 0, 0, 0, 0, 0], [0, 0, 1, 1, 1, 0], [0, 1, 1, 1, 0, 0], [0, 0, 0, 0, 0, 0], [0, 0, 0, 0, 0, 0]])\n",
    "kernel = np.ones((3, 3))"
   ]
  },
  {
   "cell_type": "code",
   "execution_count": 16,
   "metadata": {},
   "outputs": [
    {
     "data": {
      "text/plain": [
       "array([[0., 0., 0., 0., 0., 0.],\n",
       "       [0., 1., 2., 3., 2., 1.],\n",
       "       [1., 3., 5., 5., 3., 1.],\n",
       "       [1., 3., 5., 5., 3., 1.],\n",
       "       [1., 2., 3., 2., 1., 0.],\n",
       "       [0., 0., 0., 0., 0., 0.]])"
      ]
     },
     "execution_count": 16,
     "metadata": {},
     "output_type": "execute_result"
    }
   ],
   "source": [
    "n_neighbours = conv2d(block, kernel)[1:-1, 1:-1]"
   ]
  },
  {
   "cell_type": "code",
   "execution_count": 12,
   "metadata": {},
   "outputs": [
    {
     "data": {
      "text/plain": [
       "array([[0, 0, 0, 0, 0, 0],\n",
       "       [0, 0, 0, 0, 0, 0],\n",
       "       [0, 0, 1, 1, 1, 0],\n",
       "       [0, 1, 1, 1, 0, 0],\n",
       "       [0, 0, 0, 0, 0, 0],\n",
       "       [0, 0, 0, 0, 0, 0]])"
      ]
     },
     "execution_count": 12,
     "metadata": {},
     "output_type": "execute_result"
    }
   ],
   "source": [
    "block"
   ]
  },
  {
   "cell_type": "code",
   "execution_count": 13,
   "metadata": {},
   "outputs": [
    {
     "data": {
      "image/png": "[encoded data removed]",
      "text/plain": [
       "<Figure size 640x480 with 1 Axes>"
      ]
     },
     "metadata": {},
     "output_type": "display_data"
    }
   ],
   "source": [
    "n_neighbours = conv2d(block, kernel)[1:-1, 1:-1] - block\n",
    "next = block.copy()\n",
    "next[n_neighbours < 2] = 0\n",
    "next[n_neighbours == 3] = 1\n",
    "next[n_neighbours > 3] = 0\n",
    "plt.imshow(next)\n",
    "block = next.copy()"
   ]
  }
 ],
 "metadata": {
  "kernelspec": {
   "display_name": "Python 3",
   "language": "python",
   "name": "python3"
  },
  "language_info": {
   "codemirror_mode": {
    "name": "ipython",
    "version": 3
   },
   "file_extension": ".py",
   "mimetype": "text/x-python",
   "name": "python",
   "nbconvert_exporter": "python",
   "pygments_lexer": "ipython3",
   "version": "3.9.6"
  },
  "orig_nbformat": 4
 },
 "nbformat": 4,
 "nbformat_minor": 2
}
