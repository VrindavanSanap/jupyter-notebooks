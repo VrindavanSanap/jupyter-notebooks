{
 "cells": [
  {
   "cell_type": "code",
   "execution_count": 3,
   "metadata": {},
   "outputs": [],
   "source": [
    "import numpy as np\n",
    "np.random.seed(42)\n",
    "\n",
    "embeddings = np.random.randn(1000, 1536) # 1000 documents, 1536-dimensional embeddings\n",
    "embeddings1 = embeddings / np.sqrt((embeddings**2).sum(1, keepdims=True)) # L2 normalize the rows, as is common"
   ]
  },
  {
   "cell_type": "code",
   "execution_count": 4,
   "metadata": {},
   "outputs": [
    {
     "data": {
      "text/plain": [
       "(1000, 1536)"
      ]
     },
     "execution_count": 4,
     "metadata": {},
     "output_type": "execute_result"
    }
   ],
   "source": [
    "embeddings.shape"
   ]
  },
  {
   "cell_type": "code",
   "execution_count": 6,
   "metadata": {},
   "outputs": [
    {
     "data": {
      "text/plain": [
       "array([[ 0.01278695, -0.00355935,  0.0166735 , ..., -0.00379975,\n",
       "        -0.01199722, -0.04105258],\n",
       "       [ 0.01330037, -0.01379501, -0.03029659, ...,  0.017939  ,\n",
       "        -0.03287104,  0.04408893],\n",
       "       [ 0.00512884,  0.04136598, -0.01858167, ..., -0.00643044,\n",
       "        -0.00874959,  0.01240212],\n",
       "       ...,\n",
       "       [-0.01519871, -0.01918601, -0.00795636, ...,  0.05916144,\n",
       "         0.06012371, -0.00636577],\n",
       "       [ 0.04927123,  0.02736768,  0.02532746, ...,  0.01941154,\n",
       "        -0.00600695, -0.03203716],\n",
       "       [-0.00810883, -0.00925525,  0.00068903, ...,  0.02962341,\n",
       "         0.01253986, -0.02029635]])"
      ]
     },
     "execution_count": 6,
     "metadata": {},
     "output_type": "execute_result"
    }
   ],
   "source": [
    "embeddings1"
   ]
  },
  {
   "cell_type": "code",
   "execution_count": null,
   "metadata": {},
   "outputs": [],
   "source": []
  },
  {
   "cell_type": "code",
   "execution_count": null,
   "metadata": {},
   "outputs": [],
   "source": []
  },
  {
   "cell_type": "code",
   "execution_count": 10,
   "metadata": {},
   "outputs": [
    {
     "data": {
      "text/plain": [
       "array([[ 0.01278695, -0.00355935,  0.0166735 , ..., -0.00379975,\n",
       "        -0.01199722, -0.04105258],\n",
       "       [ 0.01330037, -0.01379501, -0.03029659, ...,  0.017939  ,\n",
       "        -0.03287104,  0.04408893],\n",
       "       [ 0.00512884,  0.04136598, -0.01858167, ..., -0.00643044,\n",
       "        -0.00874959,  0.01240212],\n",
       "       ...,\n",
       "       [-0.01519871, -0.01918601, -0.00795636, ...,  0.05916144,\n",
       "         0.06012371, -0.00636577],\n",
       "       [ 0.04927123,  0.02736768,  0.02532746, ...,  0.01941154,\n",
       "        -0.00600695, -0.03203716],\n",
       "       [-0.00810883, -0.00925525,  0.00068903, ...,  0.02962341,\n",
       "         0.01253986, -0.02029635]])"
      ]
     },
     "execution_count": 10,
     "metadata": {},
     "output_type": "execute_result"
    }
   ],
   "source": [
    "embeddings/np.linalg.norm(embeddings, axis=1, keepdims=True)"
   ]
  },
  {
   "cell_type": "code",
   "execution_count": null,
   "metadata": {},
   "outputs": [],
   "source": []
  }
 ],
 "metadata": {
  "kernelspec": {
   "display_name": "Python 3",
   "language": "python",
   "name": "python3"
  },
  "language_info": {
   "codemirror_mode": {
    "name": "ipython",
    "version": 3
   },
   "file_extension": ".py",
   "mimetype": "text/x-python",
   "name": "python",
   "nbconvert_exporter": "python",
   "pygments_lexer": "ipython3",
   "version": "3.9.6"
  },
  "orig_nbformat": 4
 },
 "nbformat": 4,
 "nbformat_minor": 2
}
